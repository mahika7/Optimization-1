{
 "cells": [
  {
   "cell_type": "code",
   "execution_count": 1,
   "metadata": {},
   "outputs": [],
   "source": [
    "import numpy as np"
   ]
  },
  {
   "cell_type": "markdown",
   "metadata": {},
   "source": [
    "## Q1\n",
    "Corresponding equations:\n",
    "- Total lent out money is $250 million. Thus assuming, all 4 types of loans to be a, b, c, d respectively, we get, a+b+c+d = 250\n",
    "- First mortgage = 55% of all mortgages. Thus, a = 0.55(a+b) => 45a-55b = 0\n",
    "- Second mortgage = 25% of all loans. Thus, b = 0.25(a+b+c+d) => a-3b+c+d = 0\n",
    "- Weighted average interest = 15%. Thus, (14a+20b+20c+10d)/(a+b+c+d)=15 => 14a+20b+20c+10d = 3750 "
   ]
  },
  {
   "cell_type": "code",
   "execution_count": 9,
   "metadata": {},
   "outputs": [],
   "source": [
    "#creating required matrices\n",
    "lhs = np.array([[1,1,1,1], [45,-55,0,0], [1,-3,1,1], [14,20,20,10]])\n",
    "rhs = np.array([250, 0, 0, 3750])"
   ]
  },
  {
   "cell_type": "code",
   "execution_count": 10,
   "metadata": {},
   "outputs": [
    {
     "data": {
      "text/plain": [
       "array([76.38888889, 62.5       , 31.94444444, 79.16666667])"
      ]
     },
     "execution_count": 10,
     "metadata": {},
     "output_type": "execute_result"
    }
   ],
   "source": [
    "#Solving using matrix inverse\n",
    "solution = np.linalg.inv(lhs) @ rhs\n",
    "solution"
   ]
  },
  {
   "cell_type": "markdown",
   "metadata": {},
   "source": [
    "## Loan lent for home improvemnets is 31.94 mn"
   ]
  },
  {
   "cell_type": "markdown",
   "metadata": {},
   "source": [
    "# Q2"
   ]
  },
  {
   "cell_type": "code",
   "execution_count": 48,
   "metadata": {},
   "outputs": [],
   "source": [
    "#part1: creating required equations in the form of Xr=y\n",
    "X = np.array([[-1, 1, 0, 0, 0], [-1, 0, 1, 0, 0], [-1, 0, 0, 1, 0], [-1, 0, 0, 0, 1], [0, 1, -1, 0, 0], [0, 1, 0, -1, 0], \n",
    "              [0, 1, 0, 0, -1], [0, 0, 1, -1, 0], [0, 0, -1, 0, 1], [0, 0, 0, -1, 1]])\n",
    "y = np.array([52-7, 24-21, 38-7, 45-0, 34-16, 25-17, 27-7, 7-5, 30-3, 52-14])"
   ]
  },
  {
   "cell_type": "code",
   "execution_count": 49,
   "metadata": {},
   "outputs": [
    {
     "data": {
      "text/plain": [
       "array([[ 4, -1, -1, -1, -1],\n",
       "       [-1,  4, -1, -1, -1],\n",
       "       [-1, -1,  4, -1, -1],\n",
       "       [-1, -1, -1,  4, -1],\n",
       "       [-1, -1, -1, -1,  4]])"
      ]
     },
     "execution_count": 49,
     "metadata": {},
     "output_type": "execute_result"
    }
   ],
   "source": [
    "#part2\n",
    "M = X.T @ X\n",
    "M"
   ]
  },
  {
   "cell_type": "code",
   "execution_count": 51,
   "metadata": {},
   "outputs": [
    {
     "data": {
      "text/plain": [
       "array([-124,   91,  -40,  -17,   90])"
      ]
     },
     "execution_count": 51,
     "metadata": {},
     "output_type": "execute_result"
    }
   ],
   "source": [
    "p = X.T @ y\n",
    "p"
   ]
  },
  {
   "cell_type": "code",
   "execution_count": 66,
   "metadata": {},
   "outputs": [
    {
     "data": {
      "text/plain": [
       "array([-24.8,  18.2,  -8. ,  -3.4,  18. ])"
      ]
     },
     "execution_count": 66,
     "metadata": {},
     "output_type": "execute_result"
    }
   ],
   "source": [
    "#part3\n",
    "M[4,:] = [1,1,1,1,1]\n",
    "p[4] = 0\n",
    "\n",
    "r = np.linalg.solve(M,p)\n",
    "r"
   ]
  },
  {
   "cell_type": "code",
   "execution_count": 76,
   "metadata": {},
   "outputs": [
    {
     "data": {
      "text/plain": [
       "[(2, 18.2), (5, 18.0), (4, -3.4), (3, -8.0), (1, -24.8)]"
      ]
     },
     "execution_count": 76,
     "metadata": {},
     "output_type": "execute_result"
    }
   ],
   "source": [
    "#to get team ratings\n",
    "rankings = {}\n",
    "for i in range(5):\n",
    "    rankings[i+1] = r[i]\n",
    "sort_rankings = sorted(rankings.items(), key=lambda x: x[1], reverse = True)\n",
    "sort_rankings"
   ]
  },
  {
   "cell_type": "markdown",
   "metadata": {},
   "source": [
    "## Second best team is team 5"
   ]
  },
  {
   "cell_type": "markdown",
   "metadata": {},
   "source": [
    "# Q3\n",
    "\n"
   ]
  },
  {
   "cell_type": "code",
   "execution_count": 22,
   "metadata": {},
   "outputs": [],
   "source": [
    "#defining lehmer_entry\n",
    "def lehmer_entry(i,j):\n",
    "    if(i>j):\n",
    "        return j/i\n",
    "    else:\n",
    "        return i/j"
   ]
  },
  {
   "cell_type": "code",
   "execution_count": 29,
   "metadata": {},
   "outputs": [
    {
     "data": {
      "text/plain": [
       "array([[1.        , 0.5       , 0.33333333, 0.25      ],\n",
       "       [0.5       , 1.        , 0.66666667, 0.5       ],\n",
       "       [0.33333333, 0.66666667, 1.        , 0.75      ],\n",
       "       [0.25      , 0.5       , 0.75      , 1.        ]])"
      ]
     },
     "execution_count": 29,
     "metadata": {},
     "output_type": "execute_result"
    }
   ],
   "source": [
    "#creating 4*4 lehmer matrix\n",
    "matrix = np.zeros((4,4))\n",
    "for i in range(4):\n",
    "    for j in range(4):\n",
    "        matrix[i,j] = lehmer_entry(i+1,j+1)\n",
    "matrix"
   ]
  },
  {
   "cell_type": "code",
   "execution_count": 30,
   "metadata": {},
   "outputs": [
    {
     "data": {
      "text/plain": [
       "array([[1.        , 0.5       , 0.33333333, 0.25      , 0.2       ,\n",
       "        0.16666667, 0.14285714, 0.125     , 0.11111111, 0.1       ,\n",
       "        0.09090909, 0.08333333, 0.07692308, 0.07142857, 0.06666667,\n",
       "        0.0625    , 0.05882353, 0.05555556, 0.05263158, 0.05      ],\n",
       "       [0.5       , 1.        , 0.66666667, 0.5       , 0.4       ,\n",
       "        0.33333333, 0.28571429, 0.25      , 0.22222222, 0.2       ,\n",
       "        0.18181818, 0.16666667, 0.15384615, 0.14285714, 0.13333333,\n",
       "        0.125     , 0.11764706, 0.11111111, 0.10526316, 0.1       ],\n",
       "       [0.33333333, 0.66666667, 1.        , 0.75      , 0.6       ,\n",
       "        0.5       , 0.42857143, 0.375     , 0.33333333, 0.3       ,\n",
       "        0.27272727, 0.25      , 0.23076923, 0.21428571, 0.2       ,\n",
       "        0.1875    , 0.17647059, 0.16666667, 0.15789474, 0.15      ],\n",
       "       [0.25      , 0.5       , 0.75      , 1.        , 0.8       ,\n",
       "        0.66666667, 0.57142857, 0.5       , 0.44444444, 0.4       ,\n",
       "        0.36363636, 0.33333333, 0.30769231, 0.28571429, 0.26666667,\n",
       "        0.25      , 0.23529412, 0.22222222, 0.21052632, 0.2       ],\n",
       "       [0.2       , 0.4       , 0.6       , 0.8       , 1.        ,\n",
       "        0.83333333, 0.71428571, 0.625     , 0.55555556, 0.5       ,\n",
       "        0.45454545, 0.41666667, 0.38461538, 0.35714286, 0.33333333,\n",
       "        0.3125    , 0.29411765, 0.27777778, 0.26315789, 0.25      ],\n",
       "       [0.16666667, 0.33333333, 0.5       , 0.66666667, 0.83333333,\n",
       "        1.        , 0.85714286, 0.75      , 0.66666667, 0.6       ,\n",
       "        0.54545455, 0.5       , 0.46153846, 0.42857143, 0.4       ,\n",
       "        0.375     , 0.35294118, 0.33333333, 0.31578947, 0.3       ],\n",
       "       [0.14285714, 0.28571429, 0.42857143, 0.57142857, 0.71428571,\n",
       "        0.85714286, 1.        , 0.875     , 0.77777778, 0.7       ,\n",
       "        0.63636364, 0.58333333, 0.53846154, 0.5       , 0.46666667,\n",
       "        0.4375    , 0.41176471, 0.38888889, 0.36842105, 0.35      ],\n",
       "       [0.125     , 0.25      , 0.375     , 0.5       , 0.625     ,\n",
       "        0.75      , 0.875     , 1.        , 0.88888889, 0.8       ,\n",
       "        0.72727273, 0.66666667, 0.61538462, 0.57142857, 0.53333333,\n",
       "        0.5       , 0.47058824, 0.44444444, 0.42105263, 0.4       ],\n",
       "       [0.11111111, 0.22222222, 0.33333333, 0.44444444, 0.55555556,\n",
       "        0.66666667, 0.77777778, 0.88888889, 1.        , 0.9       ,\n",
       "        0.81818182, 0.75      , 0.69230769, 0.64285714, 0.6       ,\n",
       "        0.5625    , 0.52941176, 0.5       , 0.47368421, 0.45      ],\n",
       "       [0.1       , 0.2       , 0.3       , 0.4       , 0.5       ,\n",
       "        0.6       , 0.7       , 0.8       , 0.9       , 1.        ,\n",
       "        0.90909091, 0.83333333, 0.76923077, 0.71428571, 0.66666667,\n",
       "        0.625     , 0.58823529, 0.55555556, 0.52631579, 0.5       ],\n",
       "       [0.09090909, 0.18181818, 0.27272727, 0.36363636, 0.45454545,\n",
       "        0.54545455, 0.63636364, 0.72727273, 0.81818182, 0.90909091,\n",
       "        1.        , 0.91666667, 0.84615385, 0.78571429, 0.73333333,\n",
       "        0.6875    , 0.64705882, 0.61111111, 0.57894737, 0.55      ],\n",
       "       [0.08333333, 0.16666667, 0.25      , 0.33333333, 0.41666667,\n",
       "        0.5       , 0.58333333, 0.66666667, 0.75      , 0.83333333,\n",
       "        0.91666667, 1.        , 0.92307692, 0.85714286, 0.8       ,\n",
       "        0.75      , 0.70588235, 0.66666667, 0.63157895, 0.6       ],\n",
       "       [0.07692308, 0.15384615, 0.23076923, 0.30769231, 0.38461538,\n",
       "        0.46153846, 0.53846154, 0.61538462, 0.69230769, 0.76923077,\n",
       "        0.84615385, 0.92307692, 1.        , 0.92857143, 0.86666667,\n",
       "        0.8125    , 0.76470588, 0.72222222, 0.68421053, 0.65      ],\n",
       "       [0.07142857, 0.14285714, 0.21428571, 0.28571429, 0.35714286,\n",
       "        0.42857143, 0.5       , 0.57142857, 0.64285714, 0.71428571,\n",
       "        0.78571429, 0.85714286, 0.92857143, 1.        , 0.93333333,\n",
       "        0.875     , 0.82352941, 0.77777778, 0.73684211, 0.7       ],\n",
       "       [0.06666667, 0.13333333, 0.2       , 0.26666667, 0.33333333,\n",
       "        0.4       , 0.46666667, 0.53333333, 0.6       , 0.66666667,\n",
       "        0.73333333, 0.8       , 0.86666667, 0.93333333, 1.        ,\n",
       "        0.9375    , 0.88235294, 0.83333333, 0.78947368, 0.75      ],\n",
       "       [0.0625    , 0.125     , 0.1875    , 0.25      , 0.3125    ,\n",
       "        0.375     , 0.4375    , 0.5       , 0.5625    , 0.625     ,\n",
       "        0.6875    , 0.75      , 0.8125    , 0.875     , 0.9375    ,\n",
       "        1.        , 0.94117647, 0.88888889, 0.84210526, 0.8       ],\n",
       "       [0.05882353, 0.11764706, 0.17647059, 0.23529412, 0.29411765,\n",
       "        0.35294118, 0.41176471, 0.47058824, 0.52941176, 0.58823529,\n",
       "        0.64705882, 0.70588235, 0.76470588, 0.82352941, 0.88235294,\n",
       "        0.94117647, 1.        , 0.94444444, 0.89473684, 0.85      ],\n",
       "       [0.05555556, 0.11111111, 0.16666667, 0.22222222, 0.27777778,\n",
       "        0.33333333, 0.38888889, 0.44444444, 0.5       , 0.55555556,\n",
       "        0.61111111, 0.66666667, 0.72222222, 0.77777778, 0.83333333,\n",
       "        0.88888889, 0.94444444, 1.        , 0.94736842, 0.9       ],\n",
       "       [0.05263158, 0.10526316, 0.15789474, 0.21052632, 0.26315789,\n",
       "        0.31578947, 0.36842105, 0.42105263, 0.47368421, 0.52631579,\n",
       "        0.57894737, 0.63157895, 0.68421053, 0.73684211, 0.78947368,\n",
       "        0.84210526, 0.89473684, 0.94736842, 1.        , 0.95      ],\n",
       "       [0.05      , 0.1       , 0.15      , 0.2       , 0.25      ,\n",
       "        0.3       , 0.35      , 0.4       , 0.45      , 0.5       ,\n",
       "        0.55      , 0.6       , 0.65      , 0.7       , 0.75      ,\n",
       "        0.8       , 0.85      , 0.9       , 0.95      , 1.        ]])"
      ]
     },
     "execution_count": 30,
     "metadata": {},
     "output_type": "execute_result"
    }
   ],
   "source": [
    "#creating 20*20 lehmer matrix\n",
    "A = np.zeros((20,20))\n",
    "for i in range(20):\n",
    "    for j in range(20):\n",
    "        A[i,j] = lehmer_entry(i+1,j+1)\n",
    "A"
   ]
  },
  {
   "cell_type": "code",
   "execution_count": 31,
   "metadata": {},
   "outputs": [
    {
     "name": "stdout",
     "output_type": "stream",
     "text": [
      "Symmetric\n"
     ]
    }
   ],
   "source": [
    "#checking if matrix is symmetric\n",
    "if(A.all() == A.T.all()):\n",
    "    print(\"Symmetric\")\n",
    "else:\n",
    "    print(\"Non-symmetric\")"
   ]
  },
  {
   "cell_type": "markdown",
   "metadata": {},
   "source": [
    "## Yes the matrice is symmetric"
   ]
  },
  {
   "cell_type": "markdown",
   "metadata": {},
   "source": [
    "# Q4"
   ]
  },
  {
   "cell_type": "code",
   "execution_count": 33,
   "metadata": {},
   "outputs": [],
   "source": [
    "#matrix assignment\n",
    "C = np.linalg.inv(A)\n",
    "d = [1,2,3,4,5,6,7,8,9,10,10,9,8,7,6,5,4,3,2,1]"
   ]
  },
  {
   "cell_type": "code",
   "execution_count": 36,
   "metadata": {},
   "outputs": [
    {
     "data": {
      "text/plain": [
       "array([-8.88178420e-16,  9.94759830e-15,  3.52070682e-15, -7.26913457e-14,\n",
       "        1.59424384e-13, -2.54373524e-13,  2.73454074e-13, -1.12927026e-13,\n",
       "       -2.48120301e+01,  2.00642393e+01,  3.58137507e+01, -3.00626280e+01,\n",
       "       -3.73699569e-04, -2.77204400e-04, -2.09968770e-04, -1.61954093e-04,\n",
       "       -1.26922825e-04, -1.00877939e-04,  9.50593309e+01, -1.00062903e+02])"
      ]
     },
     "execution_count": 36,
     "metadata": {},
     "output_type": "execute_result"
    }
   ],
   "source": [
    "#solving for Ax = Cd\n",
    "x = np.linalg.solve(A,C @ d)\n",
    "x"
   ]
  },
  {
   "cell_type": "code",
   "execution_count": 77,
   "metadata": {},
   "outputs": [
    {
     "data": {
      "text/plain": [
       "20.064239273130674"
      ]
     },
     "execution_count": 77,
     "metadata": {},
     "output_type": "execute_result"
    }
   ],
   "source": [
    "#solution for x10\n",
    "x[9]"
   ]
  },
  {
   "cell_type": "markdown",
   "metadata": {},
   "source": [
    "### x10 = 20.1"
   ]
  }
 ],
 "metadata": {
  "kernelspec": {
   "display_name": "Python 3",
   "language": "python",
   "name": "python3"
  },
  "language_info": {
   "codemirror_mode": {
    "name": "ipython",
    "version": 3
   },
   "file_extension": ".py",
   "mimetype": "text/x-python",
   "name": "python",
   "nbconvert_exporter": "python",
   "pygments_lexer": "ipython3",
   "version": "3.7.6"
  }
 },
 "nbformat": 4,
 "nbformat_minor": 4
}
